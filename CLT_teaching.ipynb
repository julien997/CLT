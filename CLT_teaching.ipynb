{
 "cells": [
  {
   "cell_type": "code",
   "execution_count": 2,
   "id": "e85ebc03",
   "metadata": {},
   "outputs": [
    {
     "name": "stdout",
     "output_type": "stream",
     "text": [
      "Collecting seaborn\n",
      "  Downloading seaborn-0.13.2-py3-none-any.whl (294 kB)\n",
      "     -------------------------------------- 294.9/294.9 kB 1.0 MB/s eta 0:00:00\n",
      "Requirement already satisfied: numpy!=1.24.0,>=1.20 in c:\\users\\ak125066\\anaconda3\\lib\\site-packages (from seaborn) (1.26.4)\n",
      "Requirement already satisfied: matplotlib!=3.6.1,>=3.4 in c:\\users\\ak125066\\anaconda3\\lib\\site-packages (from seaborn) (3.7.2)\n",
      "Requirement already satisfied: pandas>=1.2 in c:\\users\\ak125066\\anaconda3\\lib\\site-packages (from seaborn) (1.5.3)\n",
      "Requirement already satisfied: pillow>=6.2.0 in c:\\users\\ak125066\\anaconda3\\lib\\site-packages (from matplotlib!=3.6.1,>=3.4->seaborn) (11.3.0)\n",
      "Requirement already satisfied: python-dateutil>=2.7 in c:\\users\\ak125066\\anaconda3\\lib\\site-packages (from matplotlib!=3.6.1,>=3.4->seaborn) (2.8.2)\n",
      "Requirement already satisfied: kiwisolver>=1.0.1 in c:\\users\\ak125066\\anaconda3\\lib\\site-packages (from matplotlib!=3.6.1,>=3.4->seaborn) (1.4.4)\n",
      "Requirement already satisfied: cycler>=0.10 in c:\\users\\ak125066\\anaconda3\\lib\\site-packages (from matplotlib!=3.6.1,>=3.4->seaborn) (0.11.0)\n",
      "Requirement already satisfied: fonttools>=4.22.0 in c:\\users\\ak125066\\anaconda3\\lib\\site-packages (from matplotlib!=3.6.1,>=3.4->seaborn) (4.40.0)\n",
      "Requirement already satisfied: contourpy>=1.0.1 in c:\\users\\ak125066\\anaconda3\\lib\\site-packages (from matplotlib!=3.6.1,>=3.4->seaborn) (1.1.0)\n",
      "Requirement already satisfied: packaging>=20.0 in c:\\users\\ak125066\\anaconda3\\lib\\site-packages (from matplotlib!=3.6.1,>=3.4->seaborn) (23.0)\n",
      "Requirement already satisfied: pyparsing<3.1,>=2.3.1 in c:\\users\\ak125066\\anaconda3\\lib\\site-packages (from matplotlib!=3.6.1,>=3.4->seaborn) (3.0.9)\n",
      "Requirement already satisfied: pytz>=2020.1 in c:\\users\\ak125066\\anaconda3\\lib\\site-packages (from pandas>=1.2->seaborn) (2022.7)\n",
      "Requirement already satisfied: six>=1.5 in c:\\users\\ak125066\\anaconda3\\lib\\site-packages (from python-dateutil>=2.7->matplotlib!=3.6.1,>=3.4->seaborn) (1.16.0)\n",
      "Installing collected packages: seaborn\n",
      "Successfully installed seaborn-0.13.2\n"
     ]
    },
    {
     "name": "stderr",
     "output_type": "stream",
     "text": [
      "WARNING: Ignoring invalid distribution -mpy (c:\\users\\ak125066\\anaconda3\\lib\\site-packages)\n",
      "WARNING: Ignoring invalid distribution -umpy (c:\\users\\ak125066\\anaconda3\\lib\\site-packages)\n",
      "WARNING: Ignoring invalid distribution - (c:\\users\\ak125066\\anaconda3\\lib\\site-packages)\n",
      "WARNING: Ignoring invalid distribution -mpy (c:\\users\\ak125066\\anaconda3\\lib\\site-packages)\n",
      "WARNING: Ignoring invalid distribution -umpy (c:\\users\\ak125066\\anaconda3\\lib\\site-packages)\n",
      "WARNING: Ignoring invalid distribution - (c:\\users\\ak125066\\anaconda3\\lib\\site-packages)\n",
      "WARNING: Ignoring invalid distribution -mpy (c:\\users\\ak125066\\anaconda3\\lib\\site-packages)\n",
      "WARNING: Ignoring invalid distribution -umpy (c:\\users\\ak125066\\anaconda3\\lib\\site-packages)\n",
      "WARNING: Ignoring invalid distribution - (c:\\users\\ak125066\\anaconda3\\lib\\site-packages)\n",
      "WARNING: Ignoring invalid distribution -mpy (c:\\users\\ak125066\\anaconda3\\lib\\site-packages)\n",
      "WARNING: Ignoring invalid distribution -umpy (c:\\users\\ak125066\\anaconda3\\lib\\site-packages)\n",
      "WARNING: Ignoring invalid distribution - (c:\\users\\ak125066\\anaconda3\\lib\\site-packages)\n",
      "WARNING: Ignoring invalid distribution -mpy (c:\\users\\ak125066\\anaconda3\\lib\\site-packages)\n",
      "WARNING: Ignoring invalid distribution -umpy (c:\\users\\ak125066\\anaconda3\\lib\\site-packages)\n",
      "WARNING: Ignoring invalid distribution - (c:\\users\\ak125066\\anaconda3\\lib\\site-packages)\n",
      "WARNING: Ignoring invalid distribution -mpy (c:\\users\\ak125066\\anaconda3\\lib\\site-packages)\n",
      "WARNING: Ignoring invalid distribution -umpy (c:\\users\\ak125066\\anaconda3\\lib\\site-packages)\n",
      "WARNING: Ignoring invalid distribution - (c:\\users\\ak125066\\anaconda3\\lib\\site-packages)\n",
      "WARNING: Ignoring invalid distribution -mpy (c:\\users\\ak125066\\anaconda3\\lib\\site-packages)\n",
      "WARNING: Ignoring invalid distribution -umpy (c:\\users\\ak125066\\anaconda3\\lib\\site-packages)\n",
      "WARNING: Ignoring invalid distribution - (c:\\users\\ak125066\\anaconda3\\lib\\site-packages)\n"
     ]
    }
   ],
   "source": [
    "!pip install seaborn"
   ]
  },
  {
   "cell_type": "code",
   "execution_count": 9,
   "id": "fdb319b1",
   "metadata": {},
   "outputs": [
    {
     "data": {
      "application/vnd.jupyter.widget-view+json": {
       "model_id": "8b4cf1225ba241fbad542fae2e644f10",
       "version_major": 2,
       "version_minor": 0
      },
      "text/plain": [
       "interactive(children=(Dropdown(description='Variable:', options=('Income', 'Body size', 'Coin toss', 'Dice rol…"
      ]
     },
     "metadata": {},
     "output_type": "display_data"
    }
   ],
   "source": [
    "import numpy as np\n",
    "import matplotlib.pyplot as plt\n",
    "import seaborn as sns\n",
    "from ipywidgets import interact, IntSlider, Dropdown\n",
    "\n",
    "sns.set(style=\"whitegrid\")\n",
    "np.random.seed(42)\n",
    "\n",
    "# --- Define fixed population distributions ---\n",
    "def generate_population(option, size=100_000):\n",
    "    if option == 'Income':\n",
    "        # Lognormal ~ skewed to mimic income distribution\n",
    "        population = np.random.lognormal(mean=10, sigma=0.5, size=size)  # in euros/month\n",
    "    elif option == 'Body size':\n",
    "        # Normal distribution, e.g., human height (cm)\n",
    "        population = np.random.normal(loc=170, scale=10, size=size)\n",
    "    elif option == 'Coin toss':\n",
    "        # Bernoulli(0.5): heads = 1, tails = 0\n",
    "        population = np.random.binomial(n=1, p=0.5, size=size)\n",
    "    elif option == 'Dice roll':\n",
    "        # Uniform integers 1–6\n",
    "        population = np.random.randint(1, 7, size=size)\n",
    "    else:\n",
    "        population = np.random.normal(size=size)\n",
    "    return population\n",
    "\n",
    "# --- Sampling function ---\n",
    "def get_sample_means(population, n, num_samples):\n",
    "    return np.array([np.mean(np.random.choice(population, size=n, replace=True)) \n",
    "                     for _ in range(num_samples)])\n",
    "\n",
    "# --- Interactive function ---\n",
    "@interact(\n",
    "    variable=Dropdown(options=['Income', 'Body size', 'Coin toss', 'Dice roll'], value='Income', description='Variable:'),\n",
    "    sample_size=IntSlider(min=2, max=500, step=1, value=30, description='Sample size'),\n",
    "    num_samples=IntSlider(min=100, max=5000, step=100, value=1000, description='No. of samples')\n",
    ")\n",
    "def clt_demo(variable, sample_size, num_samples):\n",
    "    population = generate_population(variable)\n",
    "    xmin, xmax = np.percentile(population, [0.5, 99.5])\n",
    "    true_mean = np.mean(population)\n",
    "    sample_means = get_sample_means(population, sample_size, num_samples)\n",
    "    \n",
    "    plt.figure(figsize=(12, 5))\n",
    "    \n",
    "    # Population distribution\n",
    "    plt.subplot(1, 2, 1)\n",
    "    sns.histplot(population, bins=40, kde=True, color='gray')\n",
    "    plt.axvline(true_mean, color='red', linestyle='--', label='True mean')\n",
    "    plt.title(f'Population: {variable}')\n",
    "    plt.xlabel('Value')\n",
    "    plt.ylabel('Frequency')\n",
    "    plt.legend()\n",
    "    \n",
    "    # Sampling distribution of the mean\n",
    "    plt.subplot(1, 2, 2)\n",
    "    plt.xlim(xmin, xmax)\n",
    "    sns.histplot(sample_means, bins=40, kde=True, color='royalblue')\n",
    "    plt.axvline(true_mean, color='red', linestyle='--', label='True mean')\n",
    "    plt.title(f'Sampling Distribution (n = {sample_size}, samples = {num_samples})')\n",
    "    plt.xlabel('Sample mean')\n",
    "    plt.ylabel('Frequency')\n",
    "    plt.legend()\n",
    "    \n",
    "    plt.tight_layout()\n",
    "    plt.show()\n"
   ]
  },
  {
   "cell_type": "code",
   "execution_count": null,
   "id": "537f2d09",
   "metadata": {},
   "outputs": [],
   "source": []
  },
  {
   "cell_type": "code",
   "execution_count": 11,
   "id": "4047cad9",
   "metadata": {},
   "outputs": [
    {
     "data": {
      "application/vnd.jupyter.widget-view+json": {
       "model_id": "a0618e8c5e6043d99c16f55996e235c7",
       "version_major": 2,
       "version_minor": 0
      },
      "text/plain": [
       "interactive(children=(FloatSlider(value=0.2, description='P(1)', max=1.0, step=0.05), FloatSlider(value=0.2, d…"
      ]
     },
     "metadata": {},
     "output_type": "display_data"
    }
   ],
   "source": []
  },
  {
   "cell_type": "code",
   "execution_count": null,
   "id": "c27531cc",
   "metadata": {},
   "outputs": [],
   "source": []
  },
  {
   "cell_type": "code",
   "execution_count": null,
   "id": "d185c630",
   "metadata": {},
   "outputs": [],
   "source": []
  }
 ],
 "metadata": {
  "kernelspec": {
   "display_name": "Python 3 (ipykernel)",
   "language": "python",
   "name": "python3"
  },
  "language_info": {
   "codemirror_mode": {
    "name": "ipython",
    "version": 3
   },
   "file_extension": ".py",
   "mimetype": "text/x-python",
   "name": "python",
   "nbconvert_exporter": "python",
   "pygments_lexer": "ipython3",
   "version": "3.10.9"
  }
 },
 "nbformat": 4,
 "nbformat_minor": 5
}
